{
 "cells": [
  {
   "cell_type": "markdown",
   "metadata": {
    "collapsed": true
   },
   "source": [
    "# PageRank\n",
    "In this notebook, you'll build on your knowledge of eigenvectors and eigenvalues by exploring the PageRank algorithm.\n",
    "The notebook is in two parts, the first is a worksheet to get you up to speed with how the algorithm works - here we will look at a micro-internet with fewer than 10 websites and see what it does and what can go wrong.\n",
    "The second is an assessment which will test your application of eigentheory to this problem by writing code and calculating the page rank of a large network representing a sub-section of the internet."
   ]
  },
  {
   "cell_type": "markdown",
   "metadata": {},
   "source": [
    "## Part 1 - Worksheet\n",
    "### Introduction\n",
    "\n",
    "PageRank (developed by Larry Page and Sergey Brin) revolutionized web search by generating a\n",
    "ranked list of web pages based on the underlying connectivity of the web. The PageRank algorithm is\n",
    "based on an ideal random web surfer who, when reaching a page, goes to the next page by clicking on a\n",
    "link. The surfer has equal probability of clicking any link on the page and, when reaching a page with no\n",
    "links, has equal probability of moving to any other page by typing in its URL. In addition, the surfer may\n",
    "occasionally choose to type in a random URL instead of following the links on a page. The PageRank is\n",
    "the ranked order of the pages from the most to the least probable page the surfer will be viewing.\n"
   ]
  },
  {
   "cell_type": "code",
   "execution_count": 1,
   "metadata": {},
   "outputs": [
    {
     "name": "stdout",
     "output_type": "stream",
     "text": [
      "Populating the interactive namespace from numpy and matplotlib\n"
     ]
    }
   ],
   "source": [
    "# Before we begin, let's load the libraries.\n",
    "%pylab notebook\n",
    "import numpy as np\n",
    "import numpy.linalg as la\n",
    "from readonly.PageRankFunctions import *\n",
    "np.set_printoptions(suppress=True)"
   ]
  },
  {
   "cell_type": "markdown",
   "metadata": {},
   "source": [
    "### PageRank as a linear algebra problem\n",
    "Let's imagine a micro-internet, with just 6 websites (**A**vocado, **B**ullseye, **C**atBabel, **D**romeda, **e**Tings, and **F**aceSpace).\n",
    "Each website links to some of the others, and this forms a network as shown,\n",
    "\n",
    "![A Micro-Internet](readonly/internet.png \"A Micro-Internet\")\n",
    "\n",
    "The design principle of PageRank is that important websites will be linked to by important websites.\n",
    "This somewhat recursive principle will form the basis of our thinking.\n",
    "\n",
    "Imagine we have 100 *Procrastinating Pat*s on our micro-internet, each viewing a single website at a time.\n",
    "Each minute the Pats follow a link on their website to another site on the micro-internet.\n",
    "After a while, the websites that are most linked to will have more Pats visiting them, and in the long run, each minute for every Pat that leaves a website, another will enter keeping the total numbers of Pats on each website constant.\n",
    "The PageRank is simply the ranking of websites by how many Pats they have on them at the end of this process.\n",
    "\n",
    "We represent the number of Pats on each website with the vector,\n",
    "$$\\mathbf{r} = \\begin{bmatrix} r_A \\\\ r_B \\\\ r_C \\\\ r_D \\\\ r_E \\\\ r_F \\end{bmatrix}$$\n",
    "And say that the number of Pats on each website in minute $i+1$ is related to those at minute $i$ by the matrix transformation\n",
    "\n",
    "$$ \\mathbf{r}^{(i+1)} = L \\,\\mathbf{r}^{(i)}$$\n",
    "with the matrix $L$ taking the form,\n",
    "$$ L = \\begin{bmatrix}\n",
    "L_{A→A} & L_{B→A} & L_{C→A} & L_{D→A} & L_{E→A} & L_{F→A} \\\\\n",
    "L_{A→B} & L_{B→B} & L_{C→B} & L_{D→B} & L_{E→B} & L_{F→B} \\\\\n",
    "L_{A→C} & L_{B→C} & L_{C→C} & L_{D→C} & L_{E→C} & L_{F→C} \\\\\n",
    "L_{A→D} & L_{B→D} & L_{C→D} & L_{D→D} & L_{E→D} & L_{F→D} \\\\\n",
    "L_{A→E} & L_{B→E} & L_{C→E} & L_{D→E} & L_{E→E} & L_{F→E} \\\\\n",
    "L_{A→F} & L_{B→F} & L_{C→F} & L_{D→F} & L_{E→F} & L_{F→F} \\\\\n",
    "\\end{bmatrix}\n",
    "$$\n",
    "where the columns represent the probability of leaving a website for any other website, and sum to one.\n",
    "The rows determine how likely you are to enter a website from any other, though these need not add to one.\n",
    "The long time behaviour of this system is when $ \\mathbf{r}^{(i+1)} = \\mathbf{r}^{(i)}$, so we'll drop the superscripts here, and that allows us to write,\n",
    "$$ L \\,\\mathbf{r} = \\mathbf{r}$$\n",
    "\n",
    "which is an eigenvalue equation for the matrix $L$, with eigenvalue 1 (this is guaranteed by the probabalistic structure of the matrix $L$).\n",
    "\n",
    "Complete the matrix $L$ below, we've left out the column for which websites the *FaceSpace* website (F) links to.\n",
    "Remember, this is the probability to click on another website from this one, so each column should add to one (by scaling by the number of links)."
   ]
  },
  {
   "cell_type": "code",
   "execution_count": 2,
   "metadata": {
    "collapsed": true
   },
   "outputs": [],
   "source": [
    "# Replace the ??? here with the probability of clicking a link to each website when leaving Website F (FaceSpace).\n",
    "L = np.array([[0,   1/2, 1/3, 0, 0,   0 ],\n",
    "              [1/3, 0,   0,   0, 1/2, 0 ],\n",
    "              [1/3, 1/2, 0,   1, 0,   1/2 ],\n",
    "              [1/3, 0,   1/3, 0, 1/2, 1/2 ],\n",
    "              [0,   0,   0,   0, 0,   0 ],\n",
    "              [0,   0,   1/3, 0, 0,   0 ]])"
   ]
  },
  {
   "cell_type": "markdown",
   "metadata": {},
   "source": [
    "In principle, we could use a linear algebra library, as below, to calculate the eigenvalues and vectors.\n",
    "And this would work for a small system. But this gets unmanagable for large systems.\n",
    "And since we only care about the principal eigenvector (the one with the largest eigenvalue, which will be 1 in this case), we can use the *power iteration method* which will scale better, and is faster for large systems.\n",
    "\n",
    "Use the code below to peek at the PageRank for this micro-internet."
   ]
  },
  {
   "cell_type": "code",
   "execution_count": 3,
   "metadata": {},
   "outputs": [],
   "source": [
    "eVals, eVecs = la.eig(L) # Gets the eigenvalues and vectors\n"
   ]
  },
  {
   "cell_type": "code",
   "execution_count": 4,
   "metadata": {},
   "outputs": [
    {
     "data": {
      "text/plain": [
       "array([ 1.00000000+0.j        ,  0.31416979+0.j        ,\n",
       "       -0.54288045+0.30393757j, -0.54288045-0.30393757j,\n",
       "       -0.22840890+0.j        ,  0.00000000+0.j        ])"
      ]
     },
     "execution_count": 4,
     "metadata": {},
     "output_type": "execute_result"
    }
   ],
   "source": [
    "eVals"
   ]
  },
  {
   "cell_type": "code",
   "execution_count": 5,
   "metadata": {},
   "outputs": [
    {
     "data": {
      "text/plain": [
       "array([[ 0.30769231+0.j        ,  0.53116445+0.j        ,\n",
       "        -0.25448371-0.35792579j, -0.25448371+0.35792579j,\n",
       "        -0.29449150+0.j        , -0.80178373+0.j        ],\n",
       "       [ 0.10256410+0.j        ,  0.56356410+0.j        ,\n",
       "         0.02528834+0.23392751j,  0.02528834-0.23392751j,\n",
       "         0.42977236+0.j        ,  0.00000000+0.j        ],\n",
       "       [ 0.76923077+0.j        , -0.34471868+0.j        ,\n",
       "         0.70289147+0.j        ,  0.70289147-0.j        ,\n",
       "        -0.44286511+0.j        , -0.00000000+0.j        ],\n",
       "       [ 0.48717949+0.j        , -0.38426425+0.j        ,\n",
       "        -0.14510850+0.30796164j, -0.14510850-0.30796164j,\n",
       "        -0.33872028+0.j        ,  0.26726124+0.j        ],\n",
       "       [ 0.00000000+0.j        ,  0.00000000+0.j        ,\n",
       "         0.00000000+0.j        ,  0.00000000-0.j        ,\n",
       "         0.00000000+0.j        ,  0.53452248+0.j        ],\n",
       "       [ 0.25641026+0.j        , -0.36574562+0.j        ,\n",
       "        -0.32858759-0.18396336j, -0.32858759+0.18396336j,\n",
       "         0.64630452+0.j        , -0.00000000+0.j        ]])"
      ]
     },
     "execution_count": 5,
     "metadata": {},
     "output_type": "execute_result"
    }
   ],
   "source": [
    "eVecs"
   ]
  },
  {
   "cell_type": "code",
   "execution_count": 9,
   "metadata": {},
   "outputs": [
    {
     "data": {
      "text/plain": [
       "array([ 16.        ,   5.33333333,  40.        ,  25.33333333,\n",
       "         0.        ,  13.33333333])"
      ]
     },
     "execution_count": 9,
     "metadata": {},
     "output_type": "execute_result"
    }
   ],
   "source": [
    "order = np.absolute(eVals).argsort()[::-1] # Orders them by their eigenvalues\n",
    "eVals = eVals[order]\n",
    "eVecs = eVecs[:,order]\n",
    "\n",
    "r = eVecs[:, 0] # Sets r to be the principal eigenvector\n",
    "100 * np.real(r / np.sum(r)) # Make this eigenvector sum to one, then multiply by 100 Procrastinating Pats"
   ]
  },
  {
   "cell_type": "code",
   "execution_count": 10,
   "metadata": {},
   "outputs": [
    {
     "data": {
      "text/plain": [
       "array([ 0.30769231+0.j,  0.10256410+0.j,  0.76923077+0.j,  0.48717949+0.j,\n",
       "        0.00000000+0.j,  0.25641026+0.j])"
      ]
     },
     "execution_count": 10,
     "metadata": {},
     "output_type": "execute_result"
    }
   ],
   "source": [
    "r"
   ]
  },
  {
   "cell_type": "code",
   "execution_count": 11,
   "metadata": {},
   "outputs": [
    {
     "data": {
      "text/plain": [
       "array([ 16.        ,   5.33333333,  40.        ,  25.33333333,\n",
       "         0.        ,  13.33333333])"
      ]
     },
     "execution_count": 11,
     "metadata": {},
     "output_type": "execute_result"
    }
   ],
   "source": [
    "100 * np.real(r / np.sum(r)) # Make this eigenvector sum to one, then multiply by 100 Procrastinating Pats"
   ]
  },
  {
   "cell_type": "code",
   "execution_count": 7,
   "metadata": {},
   "outputs": [
    {
     "data": {
      "text/plain": [
       "array([ 1.00000000+0.j        , -0.54288045-0.30393757j,\n",
       "       -0.54288045+0.30393757j,  0.31416979+0.j        ,\n",
       "       -0.22840890+0.j        ,  0.00000000+0.j        ])"
      ]
     },
     "execution_count": 7,
     "metadata": {},
     "output_type": "execute_result"
    }
   ],
   "source": [
    "eVals"
   ]
  },
  {
   "cell_type": "code",
   "execution_count": 8,
   "metadata": {},
   "outputs": [
    {
     "data": {
      "text/plain": [
       "array([[ 0.30769231+0.j        , -0.25448371+0.35792579j,\n",
       "        -0.25448371-0.35792579j,  0.53116445+0.j        ,\n",
       "        -0.29449150+0.j        , -0.80178373+0.j        ],\n",
       "       [ 0.10256410+0.j        ,  0.02528834-0.23392751j,\n",
       "         0.02528834+0.23392751j,  0.56356410+0.j        ,\n",
       "         0.42977236+0.j        ,  0.00000000+0.j        ],\n",
       "       [ 0.76923077+0.j        ,  0.70289147-0.j        ,\n",
       "         0.70289147+0.j        , -0.34471868+0.j        ,\n",
       "        -0.44286511+0.j        , -0.00000000+0.j        ],\n",
       "       [ 0.48717949+0.j        , -0.14510850-0.30796164j,\n",
       "        -0.14510850+0.30796164j, -0.38426425+0.j        ,\n",
       "        -0.33872028+0.j        ,  0.26726124+0.j        ],\n",
       "       [ 0.00000000+0.j        ,  0.00000000-0.j        ,\n",
       "         0.00000000+0.j        ,  0.00000000+0.j        ,\n",
       "         0.00000000+0.j        ,  0.53452248+0.j        ],\n",
       "       [ 0.25641026+0.j        , -0.32858759+0.18396336j,\n",
       "        -0.32858759-0.18396336j, -0.36574562+0.j        ,\n",
       "         0.64630452+0.j        , -0.00000000+0.j        ]])"
      ]
     },
     "execution_count": 8,
     "metadata": {},
     "output_type": "execute_result"
    }
   ],
   "source": [
    "eVecs"
   ]
  },
  {
   "cell_type": "markdown",
   "metadata": {},
   "source": [
    "We can see from this list, the number of Procrastinating Pats that we expect to find on each website after long times.\n",
    "Putting them in order of *popularity* (based on this metric), the PageRank of this micro-internet is:\n",
    "\n",
    "**C**atBabel, **D**romeda, **A**vocado, **F**aceSpace, **B**ullseye, **e**Tings\n",
    "\n",
    "Referring back to the micro-internet diagram, is this what you would have expected?\n",
    "Convince yourself that based on which pages seem important given which others link to them, that this is a sensible ranking.\n",
    "\n",
    "Let's now try to get the same result using the Power-Iteration method that was covered in the video.\n",
    "This method will be much better at dealing with large systems.\n",
    "\n",
    "First let's set up our initial vector, $\\mathbf{r}^{(0)}$, so that we have our 100 Procrastinating Pats equally distributed on each of our 6 websites."
   ]
  },
  {
   "cell_type": "code",
   "execution_count": 12,
   "metadata": {},
   "outputs": [
    {
     "data": {
      "text/plain": [
       "array([ 16.66666667,  16.66666667,  16.66666667,  16.66666667,\n",
       "        16.66666667,  16.66666667])"
      ]
     },
     "execution_count": 12,
     "metadata": {},
     "output_type": "execute_result"
    }
   ],
   "source": [
    "r = 100 * np.ones(6) / 6 # Sets up this vector (6 entries of 1/6 × 100 each)\n",
    "r # Shows it's value"
   ]
  },
  {
   "cell_type": "markdown",
   "metadata": {},
   "source": [
    "Next, let's update the vector to the next minute, with the matrix $L$.\n",
    "Run the following cell multiple times, until the answer stabilises."
   ]
  },
  {
   "cell_type": "code",
   "execution_count": 29,
   "metadata": {},
   "outputs": [
    {
     "data": {
      "text/plain": [
       "array([ 16.00296902,   5.33265797,  39.99369532,  25.33404432,\n",
       "         0.        ,  13.33663338])"
      ]
     },
     "execution_count": 29,
     "metadata": {},
     "output_type": "execute_result"
    }
   ],
   "source": [
    "r = L @ r # Apply matrix L to r\n",
    "r # Show it's value\n",
    "# Re-run this cell multiple times to converge to the correct answer."
   ]
  },
  {
   "cell_type": "markdown",
   "metadata": {},
   "source": [
    "We can automate applying this matrix multiple times as follows,"
   ]
  },
  {
   "cell_type": "code",
   "execution_count": 30,
   "metadata": {},
   "outputs": [
    {
     "data": {
      "text/plain": [
       "array([ 16.        ,   5.33333333,  40.        ,  25.33333333,\n",
       "         0.        ,  13.33333333])"
      ]
     },
     "execution_count": 30,
     "metadata": {},
     "output_type": "execute_result"
    }
   ],
   "source": [
    "r = 100 * np.ones(6) / 6 # Sets up this vector (6 entries of 1/6 × 100 each)\n",
    "for i in np.arange(100) : # Repeat 100 times\n",
    "    r = L @ r\n",
    "r"
   ]
  },
  {
   "cell_type": "markdown",
   "metadata": {},
   "source": [
    "Or even better, we can keep running until we get to the required tolerance."
   ]
  },
  {
   "cell_type": "code",
   "execution_count": 31,
   "metadata": {},
   "outputs": [
    {
     "name": "stdout",
     "output_type": "stream",
     "text": [
      "18 iterations to convergence.\n"
     ]
    },
    {
     "data": {
      "text/plain": [
       "array([ 16.00149917,   5.33252025,  39.99916911,  25.3324738 ,\n",
       "         0.        ,  13.33433767])"
      ]
     },
     "execution_count": 31,
     "metadata": {},
     "output_type": "execute_result"
    }
   ],
   "source": [
    "r = 100 * np.ones(6) / 6 # Sets up this vector (6 entries of 1/6 × 100 each)\n",
    "lastR = r\n",
    "r = L @ r\n",
    "i = 0\n",
    "while la.norm(lastR - r) > 0.01 :\n",
    "    lastR = r\n",
    "    r = L @ r\n",
    "    i += 1\n",
    "print(str(i) + \" iterations to convergence.\")\n",
    "r"
   ]
  },
  {
   "cell_type": "markdown",
   "metadata": {},
   "source": [
    "See how the PageRank order is established fairly quickly, and the vector converges on the value we calculated earlier after a few tens of repeats.\n",
    "\n",
    "Congratulations! You've just calculated your first PageRank!"
   ]
  },
  {
   "cell_type": "markdown",
   "metadata": {},
   "source": [
    "### Damping Parameter\n",
    "The system we just studied converged fairly quickly to the correct answer.\n",
    "Let's consider an extension to our micro-internet where things start to go wrong.\n",
    "\n",
    "Say a new website is added to the micro-internet: *Geoff's* Website.\n",
    "This website is linked to by *FaceSpace* and only links to itself.\n",
    "![An Expanded Micro-Internet](readonly/internet2.png \"An Expanded Micro-Internet\")\n",
    "\n",
    "Intuitively, only *FaceSpace*, which is in the bottom half of the page rank, links to this website amongst the two others it links to,\n",
    "so we might expect *Geoff's* site to have a correspondingly low PageRank score.\n",
    "\n",
    "Build the new $L$ matrix for the expanded micro-internet, and use Power-Iteration on the Procrastinating Pat vector.\n",
    "See what happens…"
   ]
  },
  {
   "cell_type": "code",
   "execution_count": 32,
   "metadata": {
    "collapsed": true
   },
   "outputs": [],
   "source": [
    " # We'll call this one L2, to distinguish it from the previous L.\n",
    "L2 = np.array([[0,   1/2, 1/3, 0, 0,   0, 0 ],\n",
    "               [1/3, 0,   0,   0, 1/2, 0, 0 ],\n",
    "               [1/3, 1/2, 0,   1, 0,   1/3, 0 ],\n",
    "               [1/3, 0,   1/3, 0, 1/2, 1/3, 0 ],\n",
    "               [0,   0,   0,   0, 0,   0, 0 ],\n",
    "               [0,   0,   1/3, 0, 0,   0, 0 ],\n",
    "               [0,   0,   0,   0, 0,   1/3, 1 ]])"
   ]
  },
  {
   "cell_type": "code",
   "execution_count": 33,
   "metadata": {},
   "outputs": [
    {
     "name": "stdout",
     "output_type": "stream",
     "text": [
      "131 iterations to convergence.\n"
     ]
    },
    {
     "data": {
      "text/plain": [
       "array([  0.03046998,   0.01064323,   0.07126612,   0.04423198,\n",
       "         0.        ,   0.02489342,  99.81849527])"
      ]
     },
     "execution_count": 33,
     "metadata": {},
     "output_type": "execute_result"
    }
   ],
   "source": [
    "r = 100 * np.ones(7) / 7 # Sets up this vector (6 entries of 1/6 × 100 each)\n",
    "lastR = r\n",
    "r = L2 @ r\n",
    "i = 0\n",
    "while la.norm(lastR - r) > 0.01 :\n",
    "    lastR = r\n",
    "    r = L2 @ r\n",
    "    i += 1\n",
    "print(str(i) + \" iterations to convergence.\")\n",
    "r"
   ]
  },
  {
   "cell_type": "markdown",
   "metadata": {},
   "source": [
    "That's no good! *Geoff* seems to be taking all the traffic on the micro-internet, and somehow coming at the top of the PageRank.\n",
    "This behaviour can be understood, because once a Pat get's to *Geoff's* Website, they can't leave, as all links head back to Geoff.\n",
    "\n",
    "To combat this, we can add a small probability that the Procrastinating Pats don't follow any link on a webpage, but instead visit a website on the micro-internet at random.\n",
    "We'll say the probability of them following a link is $d$ and the probability of choosing a random website is therefore $1-d$.\n",
    "We can use a new matrix to work out where the Pat's visit each minute.\n",
    "$$ M = d \\, L + \\frac{1-d}{n} \\, J $$\n",
    "where $J$ is an $n\\times n$ matrix where every element is one.\n",
    "\n",
    "If $d$ is one, we have the case we had previously, whereas if $d$ is zero, we will always visit a random webpage and therefore all webpages will be equally likely and equally ranked.\n",
    "For this extension to work best, $1-d$ should be somewhat small - though we won't go into a discussion about exactly how small.\n",
    "\n",
    "Let's retry this PageRank with this extension."
   ]
  },
  {
   "cell_type": "code",
   "execution_count": 34,
   "metadata": {
    "collapsed": true
   },
   "outputs": [],
   "source": [
    "d = 0.5 # Feel free to play with this parameter after running the code once.\n",
    "M = d * L2 + (1-d)/7 * np.ones([7, 7]) # np.ones() is the J matrix, with ones for each entry."
   ]
  },
  {
   "cell_type": "code",
   "execution_count": 35,
   "metadata": {},
   "outputs": [
    {
     "name": "stdout",
     "output_type": "stream",
     "text": [
      "8 iterations to convergence.\n"
     ]
    },
    {
     "data": {
      "text/plain": [
       "array([ 13.68217054,  11.20902965,  22.41964343,  16.7593433 ,\n",
       "         7.14285714,  10.87976354,  17.90719239])"
      ]
     },
     "execution_count": 35,
     "metadata": {},
     "output_type": "execute_result"
    }
   ],
   "source": [
    "r = 100 * np.ones(7) / 7 # Sets up this vector (6 entries of 1/6 × 100 each)\n",
    "lastR = r\n",
    "r = M @ r\n",
    "i = 0\n",
    "while la.norm(lastR - r) > 0.01 :\n",
    "    lastR = r\n",
    "    r = M @ r\n",
    "    i += 1\n",
    "print(str(i) + \" iterations to convergence.\")\n",
    "r"
   ]
  },
  {
   "cell_type": "markdown",
   "metadata": {},
   "source": [
    "This is certainly better, the PageRank gives sensible numbers for the Procrastinating Pats that end up on each webpage.\n",
    "This method still predicts Geoff has a high ranking webpage however.\n",
    "This could be seen as a consequence of using a small network. We could also get around the problem by not counting self-links when producing the L matrix (an if a website has no outgoing links, make it link to all websites equally).\n",
    "We won't look further down this route, as this is in the realm of improvements to PageRank, rather than eigenproblems.\n",
    "\n",
    "You are now in a good position, having gained an understanding of PageRank, to produce your own code to calculate the PageRank of a website with thousands of entries.\n",
    "\n",
    "Good Luck!"
   ]
  },
  {
   "cell_type": "markdown",
   "metadata": {},
   "source": [
    "## Part 2 - Assessment\n",
    "In this assessment, you will be asked to produce a function that can calculate the PageRank for an arbitrarily large probability matrix.\n",
    "This, the final assignment of the course, will give less guidance than previous assessments.\n",
    "You will be expected to utilise code from earlier in the worksheet and re-purpose it to your needs.\n",
    "\n",
    "### How to submit\n",
    "Edit the code in the cell below to complete the assignment.\n",
    "Once you are finished and happy with it, press the *Submit Assignment* button at the top of this notebook.\n",
    "\n",
    "Please don't change any of the function names, as these will be checked by the grading script.\n",
    "\n",
    "If you have further questions about submissions or programming assignments, here is a [list](https://www.coursera.org/learn/linear-algebra-machine-learning/discussions/weeks/1/threads/jB4klkn5EeibtBIQyzFmQg) of Q&A. You can also raise an issue on the discussion forum. Good luck!"
   ]
  },
  {
   "cell_type": "code",
   "execution_count": 36,
   "metadata": {
    "collapsed": true
   },
   "outputs": [],
   "source": [
    "# PACKAGE\n",
    "# Here are the imports again, just in case you need them.\n",
    "# There is no need to edit or submit this cell.\n",
    "import numpy as np\n",
    "import numpy.linalg as la\n",
    "from readonly.PageRankFunctions import *\n",
    "np.set_printoptions(suppress=True)"
   ]
  },
  {
   "cell_type": "code",
   "execution_count": 37,
   "metadata": {
    "collapsed": true
   },
   "outputs": [],
   "source": [
    "# GRADED FUNCTION\n",
    "# Complete this function to provide the PageRank for an arbitrarily sized internet.\n",
    "# I.e. the principal eigenvector of the damped system, using the power iteration method.\n",
    "# (Normalisation doesn't matter here)\n",
    "# The functions inputs are the linkMatrix, and d the damping parameter - as defined in this worksheet.\n",
    "# (The damping parameter, d, will be set by the function - no need to set this yourself.)\n",
    "def pageRank(linkMatrix, d) :\n",
    "    n = linkMatrix.shape[0]\n",
    "    \n",
    "    M = d * linkMatrix + (1-d)/n * np.ones([n, n]) # np.ones() is the J matrix, with ones for each entry.\n",
    "    r = 100 * np.ones(n) / n # Sets up this vector (n entries of 1/n × 100 each)\n",
    "\n",
    "    lastR = r\n",
    "    r = M @ r\n",
    "    i = 0\n",
    "    while la.norm(lastR - r) > 0.01 :\n",
    "        lastR = r\n",
    "        r = M @ r\n",
    "        i += 1\n",
    "    print(str(i) + \" iterations to convergence.\")\n",
    "    r    \n",
    "    \n",
    "    return r\n"
   ]
  },
  {
   "cell_type": "markdown",
   "metadata": {},
   "source": [
    "## Test your code before submission\n",
    "To test the code you've written above, run the cell (select the cell above, then press the play button [ ▶| ] or press shift-enter).\n",
    "You can then use the code below to test out your function.\n",
    "You don't need to submit this cell; you can edit and run it as much as you like."
   ]
  },
  {
   "cell_type": "code",
   "execution_count": 39,
   "metadata": {},
   "outputs": [
    {
     "data": {
      "text/plain": [
       "array([[ 0.2,  0.2,  0.2,  0. ,  0.2],\n",
       "       [ 0.2,  0.2,  0.2,  0. ,  0.2],\n",
       "       [ 0.2,  0.2,  0.2,  0.5,  0.2],\n",
       "       [ 0.2,  0.2,  0.2,  0.5,  0.2],\n",
       "       [ 0.2,  0.2,  0.2,  0. ,  0.2]])"
      ]
     },
     "execution_count": 39,
     "metadata": {},
     "output_type": "execute_result"
    }
   ],
   "source": [
    "# Use the following function to generate internets of different sizes.\n",
    "generate_internet(5)"
   ]
  },
  {
   "cell_type": "code",
   "execution_count": 41,
   "metadata": {
    "collapsed": true
   },
   "outputs": [],
   "source": [
    "# Test your PageRank method against the built in \"eig\" method.\n",
    "# You should see yours is a lot faster for large internets\n",
    "L = generate_internet(10)"
   ]
  },
  {
   "cell_type": "code",
   "execution_count": 45,
   "metadata": {},
   "outputs": [
    {
     "name": "stdout",
     "output_type": "stream",
     "text": [
      "8 iterations to convergence.\n"
     ]
    },
    {
     "data": {
      "text/plain": [
       "array([ 10.69347753,  12.90909321,   8.4739309 ,   8.07035339,\n",
       "        12.90909321,   6.4562183 ,  13.45131446,   8.60852611,\n",
       "        11.97177458,   6.4562183 ])"
      ]
     },
     "execution_count": 45,
     "metadata": {},
     "output_type": "execute_result"
    }
   ],
   "source": [
    "pageRank(L, 0.5)"
   ]
  },
  {
   "cell_type": "code",
   "execution_count": 49,
   "metadata": {},
   "outputs": [
    {
     "data": {
      "text/plain": [
       "array([  0.00000014,  49.99999991,   0.00000009,   0.00000007,\n",
       "        49.99999915,   0.00000005,   0.00000022,   0.0000001 ,\n",
       "         0.00000021,   0.00000005])"
      ]
     },
     "execution_count": 49,
     "metadata": {},
     "output_type": "execute_result"
    }
   ],
   "source": [
    "# Do note, this is calculating the eigenvalues of the link matrix, L,\n",
    "# without any damping. It may give different results that your pageRank function.\n",
    "# If you wish, you could modify this cell to include damping.\n",
    "# (There is no credit for this though)\n",
    "eVals, eVecs = la.eig(L) # Gets the eigenvalues and vectors\n",
    "order = np.absolute(eVals).argsort()[::-1] # Orders them by their eigenvalues\n",
    "eVals = eVals[order]\n",
    "eVecs = eVecs[:,order]\n",
    "\n",
    "r = eVecs[:, 0]\n",
    "100 * np.real(r / np.sum(r))"
   ]
  },
  {
   "cell_type": "code",
   "execution_count": 50,
   "metadata": {},
   "outputs": [
    {
     "name": "stdout",
     "output_type": "stream",
     "text": [
      "Populating the interactive namespace from numpy and matplotlib\n",
      "44 iterations to convergence.\n"
     ]
    },
    {
     "data": {
      "application/javascript": [
       "/* Put everything inside the global mpl namespace */\n",
       "window.mpl = {};\n",
       "\n",
       "\n",
       "mpl.get_websocket_type = function() {\n",
       "    if (typeof(WebSocket) !== 'undefined') {\n",
       "        return WebSocket;\n",
       "    } else if (typeof(MozWebSocket) !== 'undefined') {\n",
       "        return MozWebSocket;\n",
       "    } else {\n",
       "        alert('Your browser does not have WebSocket support.' +\n",
       "              'Please try Chrome, Safari or Firefox ≥ 6. ' +\n",
       "              'Firefox 4 and 5 are also supported but you ' +\n",
       "              'have to enable WebSockets in about:config.');\n",
       "    };\n",
       "}\n",
       "\n",
       "mpl.figure = function(figure_id, websocket, ondownload, parent_element) {\n",
       "    this.id = figure_id;\n",
       "\n",
       "    this.ws = websocket;\n",
       "\n",
       "    this.supports_binary = (this.ws.binaryType != undefined);\n",
       "\n",
       "    if (!this.supports_binary) {\n",
       "        var warnings = document.getElementById(\"mpl-warnings\");\n",
       "        if (warnings) {\n",
       "            warnings.style.display = 'block';\n",
       "            warnings.textContent = (\n",
       "                \"This browser does not support binary websocket messages. \" +\n",
       "                    \"Performance may be slow.\");\n",
       "        }\n",
       "    }\n",
       "\n",
       "    this.imageObj = new Image();\n",
       "\n",
       "    this.context = undefined;\n",
       "    this.message = undefined;\n",
       "    this.canvas = undefined;\n",
       "    this.rubberband_canvas = undefined;\n",
       "    this.rubberband_context = undefined;\n",
       "    this.format_dropdown = undefined;\n",
       "\n",
       "    this.image_mode = 'full';\n",
       "\n",
       "    this.root = $('<div/>');\n",
       "    this._root_extra_style(this.root)\n",
       "    this.root.attr('style', 'display: inline-block');\n",
       "\n",
       "    $(parent_element).append(this.root);\n",
       "\n",
       "    this._init_header(this);\n",
       "    this._init_canvas(this);\n",
       "    this._init_toolbar(this);\n",
       "\n",
       "    var fig = this;\n",
       "\n",
       "    this.waiting = false;\n",
       "\n",
       "    this.ws.onopen =  function () {\n",
       "            fig.send_message(\"supports_binary\", {value: fig.supports_binary});\n",
       "            fig.send_message(\"send_image_mode\", {});\n",
       "            if (mpl.ratio != 1) {\n",
       "                fig.send_message(\"set_dpi_ratio\", {'dpi_ratio': mpl.ratio});\n",
       "            }\n",
       "            fig.send_message(\"refresh\", {});\n",
       "        }\n",
       "\n",
       "    this.imageObj.onload = function() {\n",
       "            if (fig.image_mode == 'full') {\n",
       "                // Full images could contain transparency (where diff images\n",
       "                // almost always do), so we need to clear the canvas so that\n",
       "                // there is no ghosting.\n",
       "                fig.context.clearRect(0, 0, fig.canvas.width, fig.canvas.height);\n",
       "            }\n",
       "            fig.context.drawImage(fig.imageObj, 0, 0);\n",
       "        };\n",
       "\n",
       "    this.imageObj.onunload = function() {\n",
       "        this.ws.close();\n",
       "    }\n",
       "\n",
       "    this.ws.onmessage = this._make_on_message_function(this);\n",
       "\n",
       "    this.ondownload = ondownload;\n",
       "}\n",
       "\n",
       "mpl.figure.prototype._init_header = function() {\n",
       "    var titlebar = $(\n",
       "        '<div class=\"ui-dialog-titlebar ui-widget-header ui-corner-all ' +\n",
       "        'ui-helper-clearfix\"/>');\n",
       "    var titletext = $(\n",
       "        '<div class=\"ui-dialog-title\" style=\"width: 100%; ' +\n",
       "        'text-align: center; padding: 3px;\"/>');\n",
       "    titlebar.append(titletext)\n",
       "    this.root.append(titlebar);\n",
       "    this.header = titletext[0];\n",
       "}\n",
       "\n",
       "\n",
       "\n",
       "mpl.figure.prototype._canvas_extra_style = function(canvas_div) {\n",
       "\n",
       "}\n",
       "\n",
       "\n",
       "mpl.figure.prototype._root_extra_style = function(canvas_div) {\n",
       "\n",
       "}\n",
       "\n",
       "mpl.figure.prototype._init_canvas = function() {\n",
       "    var fig = this;\n",
       "\n",
       "    var canvas_div = $('<div/>');\n",
       "\n",
       "    canvas_div.attr('style', 'position: relative; clear: both; outline: 0');\n",
       "\n",
       "    function canvas_keyboard_event(event) {\n",
       "        return fig.key_event(event, event['data']);\n",
       "    }\n",
       "\n",
       "    canvas_div.keydown('key_press', canvas_keyboard_event);\n",
       "    canvas_div.keyup('key_release', canvas_keyboard_event);\n",
       "    this.canvas_div = canvas_div\n",
       "    this._canvas_extra_style(canvas_div)\n",
       "    this.root.append(canvas_div);\n",
       "\n",
       "    var canvas = $('<canvas/>');\n",
       "    canvas.addClass('mpl-canvas');\n",
       "    canvas.attr('style', \"left: 0; top: 0; z-index: 0; outline: 0\")\n",
       "\n",
       "    this.canvas = canvas[0];\n",
       "    this.context = canvas[0].getContext(\"2d\");\n",
       "\n",
       "    var backingStore = this.context.backingStorePixelRatio ||\n",
       "\tthis.context.webkitBackingStorePixelRatio ||\n",
       "\tthis.context.mozBackingStorePixelRatio ||\n",
       "\tthis.context.msBackingStorePixelRatio ||\n",
       "\tthis.context.oBackingStorePixelRatio ||\n",
       "\tthis.context.backingStorePixelRatio || 1;\n",
       "\n",
       "    mpl.ratio = (window.devicePixelRatio || 1) / backingStore;\n",
       "\n",
       "    var rubberband = $('<canvas/>');\n",
       "    rubberband.attr('style', \"position: absolute; left: 0; top: 0; z-index: 1;\")\n",
       "\n",
       "    var pass_mouse_events = true;\n",
       "\n",
       "    canvas_div.resizable({\n",
       "        start: function(event, ui) {\n",
       "            pass_mouse_events = false;\n",
       "        },\n",
       "        resize: function(event, ui) {\n",
       "            fig.request_resize(ui.size.width, ui.size.height);\n",
       "        },\n",
       "        stop: function(event, ui) {\n",
       "            pass_mouse_events = true;\n",
       "            fig.request_resize(ui.size.width, ui.size.height);\n",
       "        },\n",
       "    });\n",
       "\n",
       "    function mouse_event_fn(event) {\n",
       "        if (pass_mouse_events)\n",
       "            return fig.mouse_event(event, event['data']);\n",
       "    }\n",
       "\n",
       "    rubberband.mousedown('button_press', mouse_event_fn);\n",
       "    rubberband.mouseup('button_release', mouse_event_fn);\n",
       "    // Throttle sequential mouse events to 1 every 20ms.\n",
       "    rubberband.mousemove('motion_notify', mouse_event_fn);\n",
       "\n",
       "    rubberband.mouseenter('figure_enter', mouse_event_fn);\n",
       "    rubberband.mouseleave('figure_leave', mouse_event_fn);\n",
       "\n",
       "    canvas_div.on(\"wheel\", function (event) {\n",
       "        event = event.originalEvent;\n",
       "        event['data'] = 'scroll'\n",
       "        if (event.deltaY < 0) {\n",
       "            event.step = 1;\n",
       "        } else {\n",
       "            event.step = -1;\n",
       "        }\n",
       "        mouse_event_fn(event);\n",
       "    });\n",
       "\n",
       "    canvas_div.append(canvas);\n",
       "    canvas_div.append(rubberband);\n",
       "\n",
       "    this.rubberband = rubberband;\n",
       "    this.rubberband_canvas = rubberband[0];\n",
       "    this.rubberband_context = rubberband[0].getContext(\"2d\");\n",
       "    this.rubberband_context.strokeStyle = \"#000000\";\n",
       "\n",
       "    this._resize_canvas = function(width, height) {\n",
       "        // Keep the size of the canvas, canvas container, and rubber band\n",
       "        // canvas in synch.\n",
       "        canvas_div.css('width', width)\n",
       "        canvas_div.css('height', height)\n",
       "\n",
       "        canvas.attr('width', width * mpl.ratio);\n",
       "        canvas.attr('height', height * mpl.ratio);\n",
       "        canvas.attr('style', 'width: ' + width + 'px; height: ' + height + 'px;');\n",
       "\n",
       "        rubberband.attr('width', width);\n",
       "        rubberband.attr('height', height);\n",
       "    }\n",
       "\n",
       "    // Set the figure to an initial 600x600px, this will subsequently be updated\n",
       "    // upon first draw.\n",
       "    this._resize_canvas(600, 600);\n",
       "\n",
       "    // Disable right mouse context menu.\n",
       "    $(this.rubberband_canvas).bind(\"contextmenu\",function(e){\n",
       "        return false;\n",
       "    });\n",
       "\n",
       "    function set_focus () {\n",
       "        canvas.focus();\n",
       "        canvas_div.focus();\n",
       "    }\n",
       "\n",
       "    window.setTimeout(set_focus, 100);\n",
       "}\n",
       "\n",
       "mpl.figure.prototype._init_toolbar = function() {\n",
       "    var fig = this;\n",
       "\n",
       "    var nav_element = $('<div/>')\n",
       "    nav_element.attr('style', 'width: 100%');\n",
       "    this.root.append(nav_element);\n",
       "\n",
       "    // Define a callback function for later on.\n",
       "    function toolbar_event(event) {\n",
       "        return fig.toolbar_button_onclick(event['data']);\n",
       "    }\n",
       "    function toolbar_mouse_event(event) {\n",
       "        return fig.toolbar_button_onmouseover(event['data']);\n",
       "    }\n",
       "\n",
       "    for(var toolbar_ind in mpl.toolbar_items) {\n",
       "        var name = mpl.toolbar_items[toolbar_ind][0];\n",
       "        var tooltip = mpl.toolbar_items[toolbar_ind][1];\n",
       "        var image = mpl.toolbar_items[toolbar_ind][2];\n",
       "        var method_name = mpl.toolbar_items[toolbar_ind][3];\n",
       "\n",
       "        if (!name) {\n",
       "            // put a spacer in here.\n",
       "            continue;\n",
       "        }\n",
       "        var button = $('<button/>');\n",
       "        button.addClass('ui-button ui-widget ui-state-default ui-corner-all ' +\n",
       "                        'ui-button-icon-only');\n",
       "        button.attr('role', 'button');\n",
       "        button.attr('aria-disabled', 'false');\n",
       "        button.click(method_name, toolbar_event);\n",
       "        button.mouseover(tooltip, toolbar_mouse_event);\n",
       "\n",
       "        var icon_img = $('<span/>');\n",
       "        icon_img.addClass('ui-button-icon-primary ui-icon');\n",
       "        icon_img.addClass(image);\n",
       "        icon_img.addClass('ui-corner-all');\n",
       "\n",
       "        var tooltip_span = $('<span/>');\n",
       "        tooltip_span.addClass('ui-button-text');\n",
       "        tooltip_span.html(tooltip);\n",
       "\n",
       "        button.append(icon_img);\n",
       "        button.append(tooltip_span);\n",
       "\n",
       "        nav_element.append(button);\n",
       "    }\n",
       "\n",
       "    var fmt_picker_span = $('<span/>');\n",
       "\n",
       "    var fmt_picker = $('<select/>');\n",
       "    fmt_picker.addClass('mpl-toolbar-option ui-widget ui-widget-content');\n",
       "    fmt_picker_span.append(fmt_picker);\n",
       "    nav_element.append(fmt_picker_span);\n",
       "    this.format_dropdown = fmt_picker[0];\n",
       "\n",
       "    for (var ind in mpl.extensions) {\n",
       "        var fmt = mpl.extensions[ind];\n",
       "        var option = $(\n",
       "            '<option/>', {selected: fmt === mpl.default_extension}).html(fmt);\n",
       "        fmt_picker.append(option)\n",
       "    }\n",
       "\n",
       "    // Add hover states to the ui-buttons\n",
       "    $( \".ui-button\" ).hover(\n",
       "        function() { $(this).addClass(\"ui-state-hover\");},\n",
       "        function() { $(this).removeClass(\"ui-state-hover\");}\n",
       "    );\n",
       "\n",
       "    var status_bar = $('<span class=\"mpl-message\"/>');\n",
       "    nav_element.append(status_bar);\n",
       "    this.message = status_bar[0];\n",
       "}\n",
       "\n",
       "mpl.figure.prototype.request_resize = function(x_pixels, y_pixels) {\n",
       "    // Request matplotlib to resize the figure. Matplotlib will then trigger a resize in the client,\n",
       "    // which will in turn request a refresh of the image.\n",
       "    this.send_message('resize', {'width': x_pixels, 'height': y_pixels});\n",
       "}\n",
       "\n",
       "mpl.figure.prototype.send_message = function(type, properties) {\n",
       "    properties['type'] = type;\n",
       "    properties['figure_id'] = this.id;\n",
       "    this.ws.send(JSON.stringify(properties));\n",
       "}\n",
       "\n",
       "mpl.figure.prototype.send_draw_message = function() {\n",
       "    if (!this.waiting) {\n",
       "        this.waiting = true;\n",
       "        this.ws.send(JSON.stringify({type: \"draw\", figure_id: this.id}));\n",
       "    }\n",
       "}\n",
       "\n",
       "\n",
       "mpl.figure.prototype.handle_save = function(fig, msg) {\n",
       "    var format_dropdown = fig.format_dropdown;\n",
       "    var format = format_dropdown.options[format_dropdown.selectedIndex].value;\n",
       "    fig.ondownload(fig, format);\n",
       "}\n",
       "\n",
       "\n",
       "mpl.figure.prototype.handle_resize = function(fig, msg) {\n",
       "    var size = msg['size'];\n",
       "    if (size[0] != fig.canvas.width || size[1] != fig.canvas.height) {\n",
       "        fig._resize_canvas(size[0], size[1]);\n",
       "        fig.send_message(\"refresh\", {});\n",
       "    };\n",
       "}\n",
       "\n",
       "mpl.figure.prototype.handle_rubberband = function(fig, msg) {\n",
       "    var x0 = msg['x0'] / mpl.ratio;\n",
       "    var y0 = (fig.canvas.height - msg['y0']) / mpl.ratio;\n",
       "    var x1 = msg['x1'] / mpl.ratio;\n",
       "    var y1 = (fig.canvas.height - msg['y1']) / mpl.ratio;\n",
       "    x0 = Math.floor(x0) + 0.5;\n",
       "    y0 = Math.floor(y0) + 0.5;\n",
       "    x1 = Math.floor(x1) + 0.5;\n",
       "    y1 = Math.floor(y1) + 0.5;\n",
       "    var min_x = Math.min(x0, x1);\n",
       "    var min_y = Math.min(y0, y1);\n",
       "    var width = Math.abs(x1 - x0);\n",
       "    var height = Math.abs(y1 - y0);\n",
       "\n",
       "    fig.rubberband_context.clearRect(\n",
       "        0, 0, fig.canvas.width, fig.canvas.height);\n",
       "\n",
       "    fig.rubberband_context.strokeRect(min_x, min_y, width, height);\n",
       "}\n",
       "\n",
       "mpl.figure.prototype.handle_figure_label = function(fig, msg) {\n",
       "    // Updates the figure title.\n",
       "    fig.header.textContent = msg['label'];\n",
       "}\n",
       "\n",
       "mpl.figure.prototype.handle_cursor = function(fig, msg) {\n",
       "    var cursor = msg['cursor'];\n",
       "    switch(cursor)\n",
       "    {\n",
       "    case 0:\n",
       "        cursor = 'pointer';\n",
       "        break;\n",
       "    case 1:\n",
       "        cursor = 'default';\n",
       "        break;\n",
       "    case 2:\n",
       "        cursor = 'crosshair';\n",
       "        break;\n",
       "    case 3:\n",
       "        cursor = 'move';\n",
       "        break;\n",
       "    }\n",
       "    fig.rubberband_canvas.style.cursor = cursor;\n",
       "}\n",
       "\n",
       "mpl.figure.prototype.handle_message = function(fig, msg) {\n",
       "    fig.message.textContent = msg['message'];\n",
       "}\n",
       "\n",
       "mpl.figure.prototype.handle_draw = function(fig, msg) {\n",
       "    // Request the server to send over a new figure.\n",
       "    fig.send_draw_message();\n",
       "}\n",
       "\n",
       "mpl.figure.prototype.handle_image_mode = function(fig, msg) {\n",
       "    fig.image_mode = msg['mode'];\n",
       "}\n",
       "\n",
       "mpl.figure.prototype.updated_canvas_event = function() {\n",
       "    // Called whenever the canvas gets updated.\n",
       "    this.send_message(\"ack\", {});\n",
       "}\n",
       "\n",
       "// A function to construct a web socket function for onmessage handling.\n",
       "// Called in the figure constructor.\n",
       "mpl.figure.prototype._make_on_message_function = function(fig) {\n",
       "    return function socket_on_message(evt) {\n",
       "        if (evt.data instanceof Blob) {\n",
       "            /* FIXME: We get \"Resource interpreted as Image but\n",
       "             * transferred with MIME type text/plain:\" errors on\n",
       "             * Chrome.  But how to set the MIME type?  It doesn't seem\n",
       "             * to be part of the websocket stream */\n",
       "            evt.data.type = \"image/png\";\n",
       "\n",
       "            /* Free the memory for the previous frames */\n",
       "            if (fig.imageObj.src) {\n",
       "                (window.URL || window.webkitURL).revokeObjectURL(\n",
       "                    fig.imageObj.src);\n",
       "            }\n",
       "\n",
       "            fig.imageObj.src = (window.URL || window.webkitURL).createObjectURL(\n",
       "                evt.data);\n",
       "            fig.updated_canvas_event();\n",
       "            fig.waiting = false;\n",
       "            return;\n",
       "        }\n",
       "        else if (typeof evt.data === 'string' && evt.data.slice(0, 21) == \"data:image/png;base64\") {\n",
       "            fig.imageObj.src = evt.data;\n",
       "            fig.updated_canvas_event();\n",
       "            fig.waiting = false;\n",
       "            return;\n",
       "        }\n",
       "\n",
       "        var msg = JSON.parse(evt.data);\n",
       "        var msg_type = msg['type'];\n",
       "\n",
       "        // Call the  \"handle_{type}\" callback, which takes\n",
       "        // the figure and JSON message as its only arguments.\n",
       "        try {\n",
       "            var callback = fig[\"handle_\" + msg_type];\n",
       "        } catch (e) {\n",
       "            console.log(\"No handler for the '\" + msg_type + \"' message type: \", msg);\n",
       "            return;\n",
       "        }\n",
       "\n",
       "        if (callback) {\n",
       "            try {\n",
       "                // console.log(\"Handling '\" + msg_type + \"' message: \", msg);\n",
       "                callback(fig, msg);\n",
       "            } catch (e) {\n",
       "                console.log(\"Exception inside the 'handler_\" + msg_type + \"' callback:\", e, e.stack, msg);\n",
       "            }\n",
       "        }\n",
       "    };\n",
       "}\n",
       "\n",
       "// from http://stackoverflow.com/questions/1114465/getting-mouse-location-in-canvas\n",
       "mpl.findpos = function(e) {\n",
       "    //this section is from http://www.quirksmode.org/js/events_properties.html\n",
       "    var targ;\n",
       "    if (!e)\n",
       "        e = window.event;\n",
       "    if (e.target)\n",
       "        targ = e.target;\n",
       "    else if (e.srcElement)\n",
       "        targ = e.srcElement;\n",
       "    if (targ.nodeType == 3) // defeat Safari bug\n",
       "        targ = targ.parentNode;\n",
       "\n",
       "    // jQuery normalizes the pageX and pageY\n",
       "    // pageX,Y are the mouse positions relative to the document\n",
       "    // offset() returns the position of the element relative to the document\n",
       "    var x = e.pageX - $(targ).offset().left;\n",
       "    var y = e.pageY - $(targ).offset().top;\n",
       "\n",
       "    return {\"x\": x, \"y\": y};\n",
       "};\n",
       "\n",
       "/*\n",
       " * return a copy of an object with only non-object keys\n",
       " * we need this to avoid circular references\n",
       " * http://stackoverflow.com/a/24161582/3208463\n",
       " */\n",
       "function simpleKeys (original) {\n",
       "  return Object.keys(original).reduce(function (obj, key) {\n",
       "    if (typeof original[key] !== 'object')\n",
       "        obj[key] = original[key]\n",
       "    return obj;\n",
       "  }, {});\n",
       "}\n",
       "\n",
       "mpl.figure.prototype.mouse_event = function(event, name) {\n",
       "    var canvas_pos = mpl.findpos(event)\n",
       "\n",
       "    if (name === 'button_press')\n",
       "    {\n",
       "        this.canvas.focus();\n",
       "        this.canvas_div.focus();\n",
       "    }\n",
       "\n",
       "    var x = canvas_pos.x * mpl.ratio;\n",
       "    var y = canvas_pos.y * mpl.ratio;\n",
       "\n",
       "    this.send_message(name, {x: x, y: y, button: event.button,\n",
       "                             step: event.step,\n",
       "                             guiEvent: simpleKeys(event)});\n",
       "\n",
       "    /* This prevents the web browser from automatically changing to\n",
       "     * the text insertion cursor when the button is pressed.  We want\n",
       "     * to control all of the cursor setting manually through the\n",
       "     * 'cursor' event from matplotlib */\n",
       "    event.preventDefault();\n",
       "    return false;\n",
       "}\n",
       "\n",
       "mpl.figure.prototype._key_event_extra = function(event, name) {\n",
       "    // Handle any extra behaviour associated with a key event\n",
       "}\n",
       "\n",
       "mpl.figure.prototype.key_event = function(event, name) {\n",
       "\n",
       "    // Prevent repeat events\n",
       "    if (name == 'key_press')\n",
       "    {\n",
       "        if (event.which === this._key)\n",
       "            return;\n",
       "        else\n",
       "            this._key = event.which;\n",
       "    }\n",
       "    if (name == 'key_release')\n",
       "        this._key = null;\n",
       "\n",
       "    var value = '';\n",
       "    if (event.ctrlKey && event.which != 17)\n",
       "        value += \"ctrl+\";\n",
       "    if (event.altKey && event.which != 18)\n",
       "        value += \"alt+\";\n",
       "    if (event.shiftKey && event.which != 16)\n",
       "        value += \"shift+\";\n",
       "\n",
       "    value += 'k';\n",
       "    value += event.which.toString();\n",
       "\n",
       "    this._key_event_extra(event, name);\n",
       "\n",
       "    this.send_message(name, {key: value,\n",
       "                             guiEvent: simpleKeys(event)});\n",
       "    return false;\n",
       "}\n",
       "\n",
       "mpl.figure.prototype.toolbar_button_onclick = function(name) {\n",
       "    if (name == 'download') {\n",
       "        this.handle_save(this, null);\n",
       "    } else {\n",
       "        this.send_message(\"toolbar_button\", {name: name});\n",
       "    }\n",
       "};\n",
       "\n",
       "mpl.figure.prototype.toolbar_button_onmouseover = function(tooltip) {\n",
       "    this.message.textContent = tooltip;\n",
       "};\n",
       "mpl.toolbar_items = [[\"Home\", \"Reset original view\", \"fa fa-home icon-home\", \"home\"], [\"Back\", \"Back to  previous view\", \"fa fa-arrow-left icon-arrow-left\", \"back\"], [\"Forward\", \"Forward to next view\", \"fa fa-arrow-right icon-arrow-right\", \"forward\"], [\"\", \"\", \"\", \"\"], [\"Pan\", \"Pan axes with left mouse, zoom with right\", \"fa fa-arrows icon-move\", \"pan\"], [\"Zoom\", \"Zoom to rectangle\", \"fa fa-square-o icon-check-empty\", \"zoom\"], [\"\", \"\", \"\", \"\"], [\"Download\", \"Download plot\", \"fa fa-floppy-o icon-save\", \"download\"]];\n",
       "\n",
       "mpl.extensions = [\"eps\", \"jpeg\", \"pdf\", \"png\", \"ps\", \"raw\", \"svg\", \"tif\"];\n",
       "\n",
       "mpl.default_extension = \"png\";var comm_websocket_adapter = function(comm) {\n",
       "    // Create a \"websocket\"-like object which calls the given IPython comm\n",
       "    // object with the appropriate methods. Currently this is a non binary\n",
       "    // socket, so there is still some room for performance tuning.\n",
       "    var ws = {};\n",
       "\n",
       "    ws.close = function() {\n",
       "        comm.close()\n",
       "    };\n",
       "    ws.send = function(m) {\n",
       "        //console.log('sending', m);\n",
       "        comm.send(m);\n",
       "    };\n",
       "    // Register the callback with on_msg.\n",
       "    comm.on_msg(function(msg) {\n",
       "        //console.log('receiving', msg['content']['data'], msg);\n",
       "        // Pass the mpl event to the overriden (by mpl) onmessage function.\n",
       "        ws.onmessage(msg['content']['data'])\n",
       "    });\n",
       "    return ws;\n",
       "}\n",
       "\n",
       "mpl.mpl_figure_comm = function(comm, msg) {\n",
       "    // This is the function which gets called when the mpl process\n",
       "    // starts-up an IPython Comm through the \"matplotlib\" channel.\n",
       "\n",
       "    var id = msg.content.data.id;\n",
       "    // Get hold of the div created by the display call when the Comm\n",
       "    // socket was opened in Python.\n",
       "    var element = $(\"#\" + id);\n",
       "    var ws_proxy = comm_websocket_adapter(comm)\n",
       "\n",
       "    function ondownload(figure, format) {\n",
       "        window.open(figure.imageObj.src);\n",
       "    }\n",
       "\n",
       "    var fig = new mpl.figure(id, ws_proxy,\n",
       "                           ondownload,\n",
       "                           element.get(0));\n",
       "\n",
       "    // Call onopen now - mpl needs it, as it is assuming we've passed it a real\n",
       "    // web socket which is closed, not our websocket->open comm proxy.\n",
       "    ws_proxy.onopen();\n",
       "\n",
       "    fig.parent_element = element.get(0);\n",
       "    fig.cell_info = mpl.find_output_cell(\"<div id='\" + id + \"'></div>\");\n",
       "    if (!fig.cell_info) {\n",
       "        console.error(\"Failed to find cell for figure\", id, fig);\n",
       "        return;\n",
       "    }\n",
       "\n",
       "    var output_index = fig.cell_info[2]\n",
       "    var cell = fig.cell_info[0];\n",
       "\n",
       "};\n",
       "\n",
       "mpl.figure.prototype.handle_close = function(fig, msg) {\n",
       "    var width = fig.canvas.width/mpl.ratio\n",
       "    fig.root.unbind('remove')\n",
       "\n",
       "    // Update the output cell to use the data from the current canvas.\n",
       "    fig.push_to_output();\n",
       "    var dataURL = fig.canvas.toDataURL();\n",
       "    // Re-enable the keyboard manager in IPython - without this line, in FF,\n",
       "    // the notebook keyboard shortcuts fail.\n",
       "    IPython.keyboard_manager.enable()\n",
       "    $(fig.parent_element).html('<img src=\"' + dataURL + '\" width=\"' + width + '\">');\n",
       "    fig.close_ws(fig, msg);\n",
       "}\n",
       "\n",
       "mpl.figure.prototype.close_ws = function(fig, msg){\n",
       "    fig.send_message('closing', msg);\n",
       "    // fig.ws.close()\n",
       "}\n",
       "\n",
       "mpl.figure.prototype.push_to_output = function(remove_interactive) {\n",
       "    // Turn the data on the canvas into data in the output cell.\n",
       "    var width = this.canvas.width/mpl.ratio\n",
       "    var dataURL = this.canvas.toDataURL();\n",
       "    this.cell_info[1]['text/html'] = '<img src=\"' + dataURL + '\" width=\"' + width + '\">';\n",
       "}\n",
       "\n",
       "mpl.figure.prototype.updated_canvas_event = function() {\n",
       "    // Tell IPython that the notebook contents must change.\n",
       "    IPython.notebook.set_dirty(true);\n",
       "    this.send_message(\"ack\", {});\n",
       "    var fig = this;\n",
       "    // Wait a second, then push the new image to the DOM so\n",
       "    // that it is saved nicely (might be nice to debounce this).\n",
       "    setTimeout(function () { fig.push_to_output() }, 1000);\n",
       "}\n",
       "\n",
       "mpl.figure.prototype._init_toolbar = function() {\n",
       "    var fig = this;\n",
       "\n",
       "    var nav_element = $('<div/>')\n",
       "    nav_element.attr('style', 'width: 100%');\n",
       "    this.root.append(nav_element);\n",
       "\n",
       "    // Define a callback function for later on.\n",
       "    function toolbar_event(event) {\n",
       "        return fig.toolbar_button_onclick(event['data']);\n",
       "    }\n",
       "    function toolbar_mouse_event(event) {\n",
       "        return fig.toolbar_button_onmouseover(event['data']);\n",
       "    }\n",
       "\n",
       "    for(var toolbar_ind in mpl.toolbar_items){\n",
       "        var name = mpl.toolbar_items[toolbar_ind][0];\n",
       "        var tooltip = mpl.toolbar_items[toolbar_ind][1];\n",
       "        var image = mpl.toolbar_items[toolbar_ind][2];\n",
       "        var method_name = mpl.toolbar_items[toolbar_ind][3];\n",
       "\n",
       "        if (!name) { continue; };\n",
       "\n",
       "        var button = $('<button class=\"btn btn-default\" href=\"#\" title=\"' + name + '\"><i class=\"fa ' + image + ' fa-lg\"></i></button>');\n",
       "        button.click(method_name, toolbar_event);\n",
       "        button.mouseover(tooltip, toolbar_mouse_event);\n",
       "        nav_element.append(button);\n",
       "    }\n",
       "\n",
       "    // Add the status bar.\n",
       "    var status_bar = $('<span class=\"mpl-message\" style=\"text-align:right; float: right;\"/>');\n",
       "    nav_element.append(status_bar);\n",
       "    this.message = status_bar[0];\n",
       "\n",
       "    // Add the close button to the window.\n",
       "    var buttongrp = $('<div class=\"btn-group inline pull-right\"></div>');\n",
       "    var button = $('<button class=\"btn btn-mini btn-primary\" href=\"#\" title=\"Stop Interaction\"><i class=\"fa fa-power-off icon-remove icon-large\"></i></button>');\n",
       "    button.click(function (evt) { fig.handle_close(fig, {}); } );\n",
       "    button.mouseover('Stop Interaction', toolbar_mouse_event);\n",
       "    buttongrp.append(button);\n",
       "    var titlebar = this.root.find($('.ui-dialog-titlebar'));\n",
       "    titlebar.prepend(buttongrp);\n",
       "}\n",
       "\n",
       "mpl.figure.prototype._root_extra_style = function(el){\n",
       "    var fig = this\n",
       "    el.on(\"remove\", function(){\n",
       "\tfig.close_ws(fig, {});\n",
       "    });\n",
       "}\n",
       "\n",
       "mpl.figure.prototype._canvas_extra_style = function(el){\n",
       "    // this is important to make the div 'focusable\n",
       "    el.attr('tabindex', 0)\n",
       "    // reach out to IPython and tell the keyboard manager to turn it's self\n",
       "    // off when our div gets focus\n",
       "\n",
       "    // location in version 3\n",
       "    if (IPython.notebook.keyboard_manager) {\n",
       "        IPython.notebook.keyboard_manager.register_events(el);\n",
       "    }\n",
       "    else {\n",
       "        // location in version 2\n",
       "        IPython.keyboard_manager.register_events(el);\n",
       "    }\n",
       "\n",
       "}\n",
       "\n",
       "mpl.figure.prototype._key_event_extra = function(event, name) {\n",
       "    var manager = IPython.notebook.keyboard_manager;\n",
       "    if (!manager)\n",
       "        manager = IPython.keyboard_manager;\n",
       "\n",
       "    // Check for shift+enter\n",
       "    if (event.shiftKey && event.which == 13) {\n",
       "        this.canvas_div.blur();\n",
       "        // select the cell after this one\n",
       "        var index = IPython.notebook.find_cell_index(this.cell_info[0]);\n",
       "        IPython.notebook.select(index + 1);\n",
       "    }\n",
       "}\n",
       "\n",
       "mpl.figure.prototype.handle_save = function(fig, msg) {\n",
       "    fig.ondownload(fig, null);\n",
       "}\n",
       "\n",
       "\n",
       "mpl.find_output_cell = function(html_output) {\n",
       "    // Return the cell and output element which can be found *uniquely* in the notebook.\n",
       "    // Note - this is a bit hacky, but it is done because the \"notebook_saving.Notebook\"\n",
       "    // IPython event is triggered only after the cells have been serialised, which for\n",
       "    // our purposes (turning an active figure into a static one), is too late.\n",
       "    var cells = IPython.notebook.get_cells();\n",
       "    var ncells = cells.length;\n",
       "    for (var i=0; i<ncells; i++) {\n",
       "        var cell = cells[i];\n",
       "        if (cell.cell_type === 'code'){\n",
       "            for (var j=0; j<cell.output_area.outputs.length; j++) {\n",
       "                var data = cell.output_area.outputs[j];\n",
       "                if (data.data) {\n",
       "                    // IPython >= 3 moved mimebundle to data attribute of output\n",
       "                    data = data.data;\n",
       "                }\n",
       "                if (data['text/html'] == html_output) {\n",
       "                    return [cell, data, j];\n",
       "                }\n",
       "            }\n",
       "        }\n",
       "    }\n",
       "}\n",
       "\n",
       "// Register the function which deals with the matplotlib target/channel.\n",
       "// The kernel may be null if the page has been refreshed.\n",
       "if (IPython.notebook.kernel != null) {\n",
       "    IPython.notebook.kernel.comm_manager.register_target('matplotlib', mpl.mpl_figure_comm);\n",
       "}\n"
      ],
      "text/plain": [
       "<IPython.core.display.Javascript object>"
      ]
     },
     "metadata": {},
     "output_type": "display_data"
    },
    {
     "data": {
      "text/html": [
       "<img src=\"data:image/png;base64,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\" width=\"639.9999861283738\">"
      ],
      "text/plain": [
       "<IPython.core.display.HTML object>"
      ]
     },
     "metadata": {},
     "output_type": "display_data"
    }
   ],
   "source": [
    "# You may wish to view the PageRank graphically.\n",
    "# This code will draw a bar chart, for each (numbered) website on the generated internet,\n",
    "# The height of each bar will be the score in the PageRank.\n",
    "# Run this code to see the PageRank for each internet you generate.\n",
    "# Hopefully you should see what you might expect\n",
    "# - there are a few clusters of important websites, but most on the internet are rubbish!\n",
    "%pylab notebook\n",
    "r = pageRank(generate_internet(100), 0.9)\n",
    "plt.bar(arange(r.shape[0]), r);"
   ]
  },
  {
   "cell_type": "code",
   "execution_count": null,
   "metadata": {
    "collapsed": true
   },
   "outputs": [],
   "source": []
  }
 ],
 "metadata": {
  "coursera": {
   "course_slug": "linear-algebra-machine-learning",
   "graded_item_id": "Sfbnp",
   "launcher_item_id": "aPxf3"
  },
  "kernelspec": {
   "display_name": "Python 3",
   "language": "python",
   "name": "python3"
  },
  "language_info": {
   "codemirror_mode": {
    "name": "ipython",
    "version": 3
   },
   "file_extension": ".py",
   "mimetype": "text/x-python",
   "name": "python",
   "nbconvert_exporter": "python",
   "pygments_lexer": "ipython3",
   "version": "3.6.2"
  }
 },
 "nbformat": 4,
 "nbformat_minor": 1
}
